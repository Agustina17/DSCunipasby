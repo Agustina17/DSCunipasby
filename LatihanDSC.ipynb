{
 "cells": [
  {
   "cell_type": "code",
   "execution_count": 1,
   "metadata": {},
   "outputs": [
    {
     "name": "stdout",
     "output_type": "stream",
     "text": [
      "Hello World\n"
     ]
    }
   ],
   "source": [
    "print(\"Hello World\")"
   ]
  },
  {
   "cell_type": "code",
   "execution_count": 2,
   "metadata": {},
   "outputs": [
    {
     "name": "stdout",
     "output_type": "stream",
     "text": [
      "Hello, Phython!\n"
     ]
    }
   ],
   "source": [
    "print('Hello, Phython!')"
   ]
  },
  {
   "cell_type": "code",
   "execution_count": 3,
   "metadata": {},
   "outputs": [
    {
     "name": "stdout",
     "output_type": "stream",
     "text": [
      "Siapa kamu? kenalan dong.\n",
      "Aku siapa? hayo siapa.\n"
     ]
    }
   ],
   "source": [
    "print(\"Siapa kamu? kenalan dong.\")\n",
    "print(\"Aku siapa? hayo siapa.\")"
   ]
  },
  {
   "cell_type": "code",
   "execution_count": 4,
   "metadata": {},
   "outputs": [
    {
     "name": "stdout",
     "output_type": "stream",
     "text": [
      "Siapa kamu? kenalan dong.\n",
      "\n",
      "Aku siapa? hayo siapa.\n"
     ]
    }
   ],
   "source": [
    "print(\"Siapa kamu? kenalan dong.\")\n",
    "print()\n",
    "print(\"Aku siapa? hayo siapa.\")"
   ]
  },
  {
   "cell_type": "code",
   "execution_count": 5,
   "metadata": {},
   "outputs": [
    {
     "name": "stdout",
     "output_type": "stream",
     "text": [
      "My name is Phyton.Monty Phyton.\n"
     ]
    }
   ],
   "source": [
    "print(\"My name is\", \"Phyton.\", end=\"\")\n",
    "print(\"Monty Phyton.\")"
   ]
  },
  {
   "cell_type": "code",
   "execution_count": 6,
   "metadata": {},
   "outputs": [
    {
     "name": "stdout",
     "output_type": "stream",
     "text": [
      "ayo-kita-belajar-operasi-Phyton.\n"
     ]
    }
   ],
   "source": [
    "print(\"ayo\", \"kita\", \"belajar\", \"operasi\", \"Phyton.\", sep=\"-\")"
   ]
  },
  {
   "cell_type": "code",
   "execution_count": 7,
   "metadata": {},
   "outputs": [
    {
     "name": "stdout",
     "output_type": "stream",
     "text": [
      "belajar***pemrograman***di...Phyton\n"
     ]
    }
   ],
   "source": [
    "print(\"belajar\",\"pemrograman\",\"di\", sep=\"***\", end=\"...\")\n",
    "print(\"Phyton\")"
   ]
  },
  {
   "cell_type": "code",
   "execution_count": 8,
   "metadata": {},
   "outputs": [
    {
     "name": "stdout",
     "output_type": "stream",
     "text": [
      "    *\n",
      "   * *\n",
      "  *   *\n",
      " *     *\n",
      "***   ***\n",
      "  *   *\n",
      "  *   *\n",
      "  *****\n",
      "\n"
     ]
    }
   ],
   "source": [
    "print(\"    *\\n   * *\\n  *   *\\n *     *\\n***   ***\\n  *   *\\n  *   *\\n  *****\\n\")"
   ]
  },
  {
   "cell_type": "code",
   "execution_count": 9,
   "metadata": {},
   "outputs": [
    {
     "data": {
      "text/plain": [
       "300000000.0"
      ]
     },
     "execution_count": 9,
     "metadata": {},
     "output_type": "execute_result"
    }
   ],
   "source": [
    "3E8 "
   ]
  },
  {
   "cell_type": "code",
   "execution_count": 10,
   "metadata": {},
   "outputs": [
    {
     "data": {
      "text/plain": [
       "float"
      ]
     },
     "execution_count": 10,
     "metadata": {},
     "output_type": "execute_result"
    }
   ],
   "source": [
    "type(3E8)"
   ]
  },
  {
   "cell_type": "code",
   "execution_count": 11,
   "metadata": {},
   "outputs": [
    {
     "data": {
      "text/plain": [
       "0.00662"
      ]
     },
     "execution_count": 11,
     "metadata": {},
     "output_type": "execute_result"
    }
   ],
   "source": [
    "6.62E-3"
   ]
  },
  {
   "cell_type": "code",
   "execution_count": 12,
   "metadata": {},
   "outputs": [
    {
     "name": "stdout",
     "output_type": "stream",
     "text": [
      "I'am\n",
      "I'am\n",
      "\"\"learning\"\"\n",
      "\"\"\"Phyton\"\"\"\n"
     ]
    }
   ],
   "source": [
    "print('I\\'am')\n",
    "print(\"I'am\")\n",
    "print(\"\\\"\\\"learning\\\"\\\"\")\n",
    "print(\"\\\"\\\"\\\"Phyton\\\"\\\"\\\"\")"
   ]
  },
  {
   "cell_type": "code",
   "execution_count": 13,
   "metadata": {},
   "outputs": [
    {
     "data": {
      "text/plain": [
       "11"
      ]
     },
     "execution_count": 13,
     "metadata": {},
     "output_type": "execute_result"
    }
   ],
   "source": [
    "9+2 #addition"
   ]
  },
  {
   "cell_type": "code",
   "execution_count": 14,
   "metadata": {},
   "outputs": [
    {
     "data": {
      "text/plain": [
       "5"
      ]
     },
     "execution_count": 14,
     "metadata": {},
     "output_type": "execute_result"
    }
   ],
   "source": [
    "9-4 #subtraction"
   ]
  },
  {
   "cell_type": "code",
   "execution_count": 15,
   "metadata": {},
   "outputs": [
    {
     "data": {
      "text/plain": [
       "20"
      ]
     },
     "execution_count": 15,
     "metadata": {},
     "output_type": "execute_result"
    }
   ],
   "source": [
    "5*4 #multiplication"
   ]
  },
  {
   "cell_type": "code",
   "execution_count": 16,
   "metadata": {},
   "outputs": [
    {
     "data": {
      "text/plain": [
       "5.0"
      ]
     },
     "execution_count": 16,
     "metadata": {},
     "output_type": "execute_result"
    }
   ],
   "source": [
    "10/2 #classic division"
   ]
  },
  {
   "cell_type": "code",
   "execution_count": 17,
   "metadata": {},
   "outputs": [
    {
     "name": "stdout",
     "output_type": "stream",
     "text": [
      "1\n",
      "3\n"
     ]
    }
   ],
   "source": [
    "#Modulus\n",
    "print(9%2) #sisa pembagian\n",
    "print(8%5)"
   ]
  },
  {
   "cell_type": "code",
   "execution_count": 18,
   "metadata": {},
   "outputs": [
    {
     "name": "stdout",
     "output_type": "stream",
     "text": [
      "Nama kamu siapa? :Fitry Wiarsy\n",
      "Nama saya Fitry Wiarsy\n"
     ]
    }
   ],
   "source": [
    "#Fungsi Input\n",
    "nama = input(\"Nama kamu siapa? :\") #hasil fungsi input() ini berupa string\n",
    "print(\"Nama saya\",nama)"
   ]
  },
  {
   "cell_type": "code",
   "execution_count": 19,
   "metadata": {},
   "outputs": [
    {
     "name": "stdout",
     "output_type": "stream",
     "text": [
      "Enter value for x: 10\n",
      "y = 0.09901951266867294\n"
     ]
    }
   ],
   "source": [
    "x = float(input(\"Enter value for x: \"))\n",
    "y = 1/(x+1/(x+1/(x+1/x)))\n",
    "print(\"y =\", y)"
   ]
  },
  {
   "cell_type": "code",
   "execution_count": 20,
   "metadata": {},
   "outputs": [
    {
     "name": "stdout",
     "output_type": "stream",
     "text": [
      "Nama pertama :Fitry \n",
      "Nama terakhir :Wiarsy\n",
      "Namaku adalah Fitry  Wiarsy\n"
     ]
    }
   ],
   "source": [
    "#Concatenation operator (+)\n",
    "first = input(\"Nama pertama :\")\n",
    "last = input (\"Nama terakhir :\")\n",
    "print(\"Namaku adalah \" + first + \" \" + last)"
   ]
  },
  {
   "cell_type": "code",
   "execution_count": 21,
   "metadata": {},
   "outputs": [
    {
     "name": "stdout",
     "output_type": "stream",
     "text": [
      "+----------+\n",
      "|          |\n",
      "|          |\n",
      "|          |\n",
      "|          |\n",
      "|          |\n",
      "+----------+\n"
     ]
    }
   ],
   "source": [
    "print(\"+\" + 10 * \"-\" + \"+\")\n",
    "print((\"|\" + \" \" * 10 + \"|\\n\") * 5, end=\"\")\n",
    "print(\"+\" + 10 * \"-\" + \"+\")"
   ]
  },
  {
   "cell_type": "code",
   "execution_count": 22,
   "metadata": {},
   "outputs": [
    {
     "name": "stdout",
     "output_type": "stream",
     "text": [
      "    *\n",
      "   * *\n",
      "  *   *\n",
      " *     *\n",
      "***   ***\n",
      "  *   *\n",
      "  *   *\n",
      "  *****\n",
      "    *\n",
      "   * *\n",
      "  *   *\n",
      " *     *\n",
      "***   ***\n",
      "  *   *\n",
      "  *   *\n",
      "  *****\n",
      "\n"
     ]
    }
   ],
   "source": [
    "\n",
    "print(\"    *\\n   * *\\n  *   *\\n *     *\\n***   ***\\n  *   *\\n  *   *\\n  *****\\n\"*2)"
   ]
  },
  {
   "cell_type": "code",
   "execution_count": 23,
   "metadata": {},
   "outputs": [
    {
     "name": "stdout",
     "output_type": "stream",
     "text": [
      "False\n",
      "True\n"
     ]
    }
   ],
   "source": [
    "# Equality Operator a==b, apakah a sama dengan b?\n",
    "print(2==3)\n",
    "print(4==4)"
   ]
  },
  {
   "cell_type": "code",
   "execution_count": 24,
   "metadata": {},
   "outputs": [
    {
     "name": "stdout",
     "output_type": "stream",
     "text": [
      "False\n",
      "True\n"
     ]
    }
   ],
   "source": [
    "a = 5\n",
    "print(a==6)\n",
    "print(a==5)"
   ]
  },
  {
   "cell_type": "code",
   "execution_count": 25,
   "metadata": {},
   "outputs": [
    {
     "name": "stdout",
     "output_type": "stream",
     "text": [
      "True\n",
      "False\n"
     ]
    }
   ],
   "source": [
    "# Inequality Operator a!=b, apa a tidak sama dengan b?\n",
    "print(2!=3)\n",
    "print(4!=4)"
   ]
  },
  {
   "cell_type": "code",
   "execution_count": 26,
   "metadata": {},
   "outputs": [
    {
     "name": "stdout",
     "output_type": "stream",
     "text": [
      "False\n",
      "True\n"
     ]
    }
   ],
   "source": [
    "# \"Greater than\" Operator a>b, apakah a lebih besar dari b\n",
    "# \"Greater than or Equal to\" Operator a>=b, apakah a lebih besar dari b atau sama dengan b?\n",
    "a = 5\n",
    "print(a>6)\n",
    "print(a>=5)"
   ]
  },
  {
   "cell_type": "code",
   "execution_count": 27,
   "metadata": {},
   "outputs": [
    {
     "name": "stdout",
     "output_type": "stream",
     "text": [
      "False\n",
      "True\n"
     ]
    }
   ],
   "source": [
    "n = +123\n",
    "print(n<100)\n",
    "print(n>=100)"
   ]
  },
  {
   "cell_type": "code",
   "execution_count": 28,
   "metadata": {},
   "outputs": [
    {
     "name": "stdout",
     "output_type": "stream",
     "text": [
      "nilai x: 10\n",
      "True\n",
      "True\n",
      "else\n"
     ]
    }
   ],
   "source": [
    "x = int(input(\"nilai x: \"))\n",
    "\n",
    "if x == 10:\n",
    "    print(x == 10)\n",
    "if x > 5:\n",
    "    print(x > 5)\n",
    "if x < 10:\n",
    "    print(x < 10)\n",
    "else:\n",
    "    print(\"else\")"
   ]
  },
  {
   "cell_type": "code",
   "execution_count": 29,
   "metadata": {},
   "outputs": [
    {
     "name": "stdout",
     "output_type": "stream",
     "text": [
      "Masukkan angka pertama: 7\n",
      "Masukkan angka kedua: 2\n",
      "Masukkan angka ketiga: 9\n",
      "Angka yang paling besar: 9\n",
      "Angka yang paling kecil: 2\n"
     ]
    }
   ],
   "source": [
    "#Pseudocode\n",
    "num1 = int(input(\"Masukkan angka pertama: \"))\n",
    "num2 = int(input(\"Masukkan angka kedua: \"))\n",
    "num3 = int(input(\"Masukkan angka ketiga: \"))\n",
    "besar = max(num1, num2, num3)\n",
    "print(\"Angka yang paling besar:\", besar)\n",
    "kecil = min(num1, num2, num3)\n",
    "print(\"Angka yang paling kecil:\", kecil)"
   ]
  },
  {
   "cell_type": "code",
   "execution_count": 30,
   "metadata": {},
   "outputs": [
    {
     "name": "stdout",
     "output_type": "stream",
     "text": [
      "Masukkan angka pertama: 13\n",
      "Masukkan angka pertama: 19\n",
      "Masukkan angka pertama: 10\n",
      "gotcha!!!\n"
     ]
    }
   ],
   "source": [
    "#Perulangan (Looping)\n",
    "besar = 10\n",
    "num1 = int(input(\"Masukkan angka pertama: \"))\n",
    "\n",
    "while num1!=10:\n",
    "    if num1>besar:\n",
    "        besar = num1\n",
    "    num1 = int(input(\"Masukkan angka pertama: \"))\n",
    "\n",
    "print(\"gotcha!!!\")"
   ]
  },
  {
   "cell_type": "code",
   "execution_count": 31,
   "metadata": {},
   "outputs": [
    {
     "name": "stdout",
     "output_type": "stream",
     "text": [
      "Masukkan angka: 1\n",
      "Masukkan angka: 2\n",
      "Masukkan angka: 3\n",
      "Masukkan angka: 4\n",
      "Masukkan angka: 5\n",
      "Masukkan angka: 6\n",
      "banyaknya bilangan ganjil: 3\n",
      "banyaknya bilangan genap: 2\n"
     ]
    }
   ],
   "source": [
    "# Menghitung berapa banyak bilangan ganjil dan bilangan genap\n",
    "# Loooping akan berhenti jika angka yang dimasukkan 0\n",
    "\n",
    "banyak_ganjil = 0\n",
    "banyak_genap = 0\n",
    "\n",
    "num = int(input(\"Masukkan angka: \")) #Memasukkan angka\n",
    "i = 0\n",
    "while i<5 :\n",
    "    if num % 2 == 1:\n",
    "        banyak_ganjil += 1\n",
    "    else:\n",
    "        banyak_genap += 1\n",
    "    num = int(input(\"Masukkan angka: \"))\n",
    "    i += 1\n",
    "\n",
    "# print results\n",
    "print(\"banyaknya bilangan ganjil:\", banyak_ganjil)\n",
    "print(\"banyaknya bilangan genap:\", banyak_genap)"
   ]
  },
  {
   "cell_type": "code",
   "execution_count": 32,
   "metadata": {},
   "outputs": [
    {
     "name": "stdout",
     "output_type": "stream",
     "text": [
      "Beri aku satu kata : aku\n",
      "cepat temukan rahasiaku!\n",
      "Beri aku satu kata : pasti\n",
      "cepat temukan rahasiaku!\n",
      "Beri aku satu kata : bisa\n",
      "cepat temukan rahasiaku!\n",
      "Beri aku satu kata : awesome\n",
      "yeay, kamu berhasil bung!!!\n"
     ]
    }
   ],
   "source": [
    "secret = \"awesome\"\n",
    "word = input(\"Beri aku satu kata : \")\n",
    "\n",
    "while word!=\"awesome\":\n",
    "    print(\"cepat temukan rahasiaku!\")\n",
    "    word = input(\"Beri aku satu kata : \")\n",
    "       \n",
    "print(\"yeay, kamu berhasil bung!!!\")"
   ]
  },
  {
   "cell_type": "code",
   "execution_count": 33,
   "metadata": {},
   "outputs": [
    {
     "name": "stdout",
     "output_type": "stream",
     "text": [
      "nilai i adalah  0\n",
      "nilai i adalah  1\n",
      "nilai i adalah  2\n",
      "nilai i adalah  3\n",
      "nilai i adalah  4\n",
      "nilai i adalah  5\n",
      "nilai i adalah  6\n",
      "nilai i adalah  7\n",
      "nilai i adalah  8\n",
      "nilai i adalah  9\n"
     ]
    }
   ],
   "source": [
    "#for\n",
    "for i in range(10):\n",
    "    print(\"nilai i adalah \", i)"
   ]
  },
  {
   "cell_type": "code",
   "execution_count": 34,
   "metadata": {},
   "outputs": [
    {
     "name": "stdout",
     "output_type": "stream",
     "text": [
      "nilai i adalah  2\n",
      "nilai i adalah  3\n",
      "nilai i adalah  4\n",
      "nilai i adalah  5\n",
      "nilai i adalah  6\n",
      "nilai i adalah  7\n",
      "nilai i adalah  8\n",
      "nilai i adalah  9\n"
     ]
    }
   ],
   "source": [
    "for i in range(2,10):\n",
    "    print(\"nilai i adalah \", i)"
   ]
  },
  {
   "cell_type": "code",
   "execution_count": 35,
   "metadata": {},
   "outputs": [
    {
     "name": "stdout",
     "output_type": "stream",
     "text": [
      "Inside the loop. 1\n",
      "Inside the loop. 2\n",
      "Outside the loop.\n"
     ]
    }
   ],
   "source": [
    "#for dengan break dan continue\n",
    "# contoh - break\n",
    "\n",
    "for i in range(1, 6):\n",
    "    if i == 3:\n",
    "        break\n",
    "    print(\"Inside the loop.\", i)\n",
    "print(\"Outside the loop.\")"
   ]
  },
  {
   "cell_type": "code",
   "execution_count": 36,
   "metadata": {},
   "outputs": [
    {
     "name": "stdout",
     "output_type": "stream",
     "text": [
      "Inside the loop. 1\n",
      "Inside the loop. 2\n",
      "Inside the loop. 4\n",
      "Inside the loop. 5\n",
      "Outside the loop.\n"
     ]
    }
   ],
   "source": [
    "# contoh - continue\n",
    "\n",
    "for i in range(1, 6):\n",
    "    if i == 3:\n",
    "        continue # melompati atau melanjutkan ke looping berikutnya\n",
    "    print(\"Inside the loop.\", i)\n",
    "print(\"Outside the loop.\")"
   ]
  },
  {
   "cell_type": "code",
   "execution_count": 37,
   "metadata": {},
   "outputs": [
    {
     "name": "stdout",
     "output_type": "stream",
     "text": [
      "Masukkan satu kata : qwert\n",
      "Q\n",
      "W\n",
      "R\n",
      "T\n"
     ]
    }
   ],
   "source": [
    "userWord = input(\"Masukkan satu kata : \")\n",
    "userWord = userWord.upper()\n",
    "\n",
    "for letter in userWord:\n",
    "    if letter==\"A\" or letter==\"I\" or letter==\"U\" or letter==\"E\" or letter==\"O\":\n",
    "        continue\n",
    "    print(letter)"
   ]
  },
  {
   "cell_type": "code",
   "execution_count": 38,
   "metadata": {},
   "outputs": [
    {
     "name": "stdout",
     "output_type": "stream",
     "text": [
      "True\n",
      "True\n"
     ]
    }
   ],
   "source": [
    "#Logical Operation\n",
    "var = 1\n",
    "print(var > 0)\n",
    "print(not (var <= 0)) #kebalikan dari false"
   ]
  },
  {
   "cell_type": "code",
   "execution_count": 39,
   "metadata": {},
   "outputs": [
    {
     "name": "stdout",
     "output_type": "stream",
     "text": [
      "True\n",
      "False\n",
      "False\n",
      "True\n"
     ]
    }
   ],
   "source": [
    "p=1\n",
    "q=2\n",
    "print(not (p and q) == (not p) or (not q))\n",
    "print(not (p or q) == (not p) and (not q))\n",
    "print(not (p and q) == (not p) and (not q))\n",
    "print(not (p or q) == (not p) or (not q))\n",
    "\n",
    "# contoh :\n",
    "# p adalah bilangan prima : 2,3,5,7,11,....\n",
    "# q adalah bilangan ganjil : 1,3,5,7,9,11,....\n",
    "# prima ganjil : 3,5,7,11,...\n",
    "# bukan (prima ganjil) termasuk bukan prima atau bukan ganjil\n",
    "# bukan (prima atau ganjil) termasuk bukan prima atau bukan ganjil"
   ]
  },
  {
   "cell_type": "code",
   "execution_count": 40,
   "metadata": {},
   "outputs": [
    {
     "name": "stdout",
     "output_type": "stream",
     "text": [
      "0\n",
      "31\n",
      "-16\n",
      "31\n"
     ]
    }
   ],
   "source": [
    "#Bitwise Operator\n",
    "x = 15 #bilangan biner 0000 1111\n",
    "y = 16 #bilangan biner 0001 0000\n",
    "\n",
    "print(x & y) #bilangan biner 0000 0000\n",
    "print(x | y) #bilangan biner 0001 1111\n",
    "print(~x)    #bilangan biner 1111 0000\n",
    "print(x ^ y) #bilangan biner 0001 1111"
   ]
  },
  {
   "cell_type": "code",
   "execution_count": 41,
   "metadata": {},
   "outputs": [
    {
     "name": "stdout",
     "output_type": "stream",
     "text": [
      "100 1600 12\n"
     ]
    }
   ],
   "source": [
    "#Binary left shift and binary right shift\n",
    "var = 100\n",
    "varLeft = var << 4 # varLeft = var * 2 * 2 * 2 * 2 dikali 2 sebayak 4x\n",
    "varRight = var >> 3 # varRight = var // 2 // 2 // 2 , dibagi 2 sebanyak 3x\n",
    "print(var, varLeft, varRight)"
   ]
  },
  {
   "cell_type": "code",
   "execution_count": 42,
   "metadata": {},
   "outputs": [
    {
     "name": "stdout",
     "output_type": "stream",
     "text": [
      "0 5 -5 1 1 16\n"
     ]
    }
   ],
   "source": [
    "x = 4 #bilangan biner 00\n",
    "y = 1 #bilangan biner 01\n",
    "\n",
    "a = x & y #bilangan biner 00\n",
    "b = x | y #bilangan biner 01\n",
    "c = ~x    #bilangan biner 11\n",
    "d = x ^ 5 #bilangan biner 01\n",
    "e = x >> 2 \n",
    "f = x << 2\n",
    "\n",
    "print(a, b, c, d, e, f)"
   ]
  },
  {
   "cell_type": "code",
   "execution_count": 43,
   "metadata": {},
   "outputs": [
    {
     "name": "stdout",
     "output_type": "stream",
     "text": [
      "Elemen-elemen asli:  [10, 5, 7, 2, 1]\n",
      "perubahan elemen: [111, 5, 7, 2, 1]\n",
      "perubahan elemen: [111, 1, 7, 2, 1]\n"
     ]
    }
   ],
   "source": [
    "#Lists\n",
    "num = [10, 5, 7, 2, 1]\n",
    "print(\"Elemen-elemen asli: \", num) \n",
    "\n",
    "num[0] = 111\n",
    "print(\"perubahan elemen:\", num) \n",
    "\n",
    "num[1] = num[4] \n",
    "print(\"perubahan elemen:\", num)"
   ]
  },
  {
   "cell_type": "code",
   "execution_count": 44,
   "metadata": {},
   "outputs": [
    {
     "data": {
      "text/plain": [
       "5"
      ]
     },
     "execution_count": 44,
     "metadata": {},
     "output_type": "execute_result"
    }
   ],
   "source": [
    "# fungsi len()\n",
    "len(num)"
   ]
  },
  {
   "cell_type": "code",
   "execution_count": 45,
   "metadata": {},
   "outputs": [
    {
     "name": "stdout",
     "output_type": "stream",
     "text": [
      "[111, 7, 2, 1]\n",
      "4\n"
     ]
    }
   ],
   "source": [
    "# instruksi del\n",
    "del num[1]\n",
    "print(num)\n",
    "print(len(num))"
   ]
  },
  {
   "cell_type": "code",
   "execution_count": 46,
   "metadata": {},
   "outputs": [
    {
     "name": "stdout",
     "output_type": "stream",
     "text": [
      "1\n",
      "7\n"
     ]
    }
   ],
   "source": [
    "print(num[-1])\n",
    "print(num[-3])"
   ]
  },
  {
   "cell_type": "code",
   "execution_count": 47,
   "metadata": {},
   "outputs": [
    {
     "name": "stdout",
     "output_type": "stream",
     "text": [
      "5 5\n",
      "5 2\n"
     ]
    }
   ],
   "source": [
    "# Bagaimana cara membalikkan nilai? (1)\n",
    "var1 = 2\n",
    "var2 = 5\n",
    "var1 = var2\n",
    "var2 = var1\n",
    "print(var1,var2)\n",
    "\n",
    "var1 = 2\n",
    "var2 = 5\n",
    "var1 , var2 = var2 , var1\n",
    "print(var1, var2)"
   ]
  },
  {
   "cell_type": "code",
   "execution_count": 49,
   "metadata": {},
   "outputs": [
    {
     "name": "stdout",
     "output_type": "stream",
     "text": [
      "white\n",
      "purple\n",
      "blue\n",
      "yellow\n",
      "green\n"
     ]
    }
   ],
   "source": [
    "myList = [\"white\", \"purple\", \"blue\", \"yellow\", \"green\"]\n",
    "\n",
    "for color in myList:\n",
    "    print(color)"
   ]
  },
  {
   "cell_type": "code",
   "execution_count": 50,
   "metadata": {},
   "outputs": [
    {
     "name": "stdout",
     "output_type": "stream",
     "text": [
      "[1, 3, 5, 9, 10]\n"
     ]
    }
   ],
   "source": [
    "#Sorting List\n",
    "my_list = [9, 10, 5, 1, 3]\n",
    "tukar = True\n",
    "\n",
    "while tukar:\n",
    "    tukar = False\n",
    "    for i in range(len(my_list) - 1):\n",
    "        if my_list[i] > my_list[i + 1]:\n",
    "            tukar = True\n",
    "            my_list[i], my_list[i + 1] = my_list[i + 1], my_list[i]\n",
    "\n",
    "print(my_list)"
   ]
  },
  {
   "cell_type": "code",
   "execution_count": 51,
   "metadata": {},
   "outputs": [
    {
     "name": "stdout",
     "output_type": "stream",
     "text": [
      "[1, 3, 5, 9, 10]\n",
      "['A', 'F', 'I', 'R', 'T']\n"
     ]
    }
   ],
   "source": [
    "# sort() method\n",
    "my_list = [9, 10, 5, 1, 3]\n",
    "my_list.sort()\n",
    "print(my_list)\n",
    "\n",
    "my_list = [\"F\", \"I\", \"T\", \"R\", \"A\"]\n",
    "my_list.sort()\n",
    "print(my_list)"
   ]
  },
  {
   "cell_type": "code",
   "execution_count": 52,
   "metadata": {},
   "outputs": [
    {
     "name": "stdout",
     "output_type": "stream",
     "text": [
      "[5] [5]\n"
     ]
    }
   ],
   "source": [
    "#Operasi List\n",
    "# perbedaan operasi list dengan operasi biasa, \n",
    "var1 = [2]\n",
    "var2 = var1 #jika elemen var1 diganti maka var2 akan ikut terganti karena var2=var1\n",
    "var1[0] = 5\n",
    "print(var1, var2)"
   ]
  },
  {
   "cell_type": "code",
   "execution_count": 53,
   "metadata": {},
   "outputs": [
    {
     "name": "stdout",
     "output_type": "stream",
     "text": [
      "[2, 3, 1, 9]\n",
      "[3, 1, 9]\n",
      "[2, 3, 1]\n"
     ]
    }
   ],
   "source": [
    "var1 = [2,3,1,9]\n",
    "var2 = var1[1:]\n",
    "var3 = var1[:3]\n",
    "print(var1)\n",
    "print(var2)\n",
    "print(var3)"
   ]
  },
  {
   "cell_type": "code",
   "execution_count": 54,
   "metadata": {},
   "outputs": [
    {
     "name": "stdout",
     "output_type": "stream",
     "text": [
      "True\n",
      "True\n",
      "False\n"
     ]
    }
   ],
   "source": [
    "# in, not in\n",
    "my_list = [6, 3, 9, 8, 2]\n",
    "\n",
    "print(6 in my_list)\n",
    "print(5 not in my_list)\n",
    "print(12 in my_list)"
   ]
  },
  {
   "cell_type": "code",
   "execution_count": 55,
   "metadata": {},
   "outputs": [
    {
     "name": "stdout",
     "output_type": "stream",
     "text": [
      "[0, 1, 4, 9, 16, 25, 36, 49, 64, 81]\n"
     ]
    }
   ],
   "source": [
    "kuadrat = [x ** 2 for x in range(10)]\n",
    "print(kuadrat)"
   ]
  },
  {
   "cell_type": "code",
   "execution_count": 56,
   "metadata": {},
   "outputs": [
    {
     "name": "stdout",
     "output_type": "stream",
     "text": [
      "[1, 3, 5, 7, 9]\n"
     ]
    }
   ],
   "source": [
    "num = [1,2,3,4,5,6,7,8,9,10]\n",
    "ganjil = [x for x in num if x % 2 != 0 ]\n",
    "print(ganjil)"
   ]
  },
  {
   "cell_type": "code",
   "execution_count": 57,
   "metadata": {},
   "outputs": [
    {
     "name": "stdout",
     "output_type": "stream",
     "text": [
      "Angka favorit :\n",
      "7\n",
      "Angka favorit :\n",
      "8\n"
     ]
    }
   ],
   "source": [
    "#Membuat Fungsi\n",
    "def pesan(): #def artinya define, pesan() merupakan nama fungsi\n",
    "    print(\"Angka favorit :\") #isi fungsi\n",
    "\n",
    "pesan() #memanggil fungsi\n",
    "x=int(input())\n",
    "pesan()\n",
    "y=int(input())"
   ]
  },
  {
   "cell_type": "code",
   "execution_count": 58,
   "metadata": {},
   "outputs": [
    {
     "name": "stdout",
     "output_type": "stream",
     "text": [
      "Siapa namamu? Fitry\n",
      "Namaku adalah  Fitry\n"
     ]
    }
   ],
   "source": [
    "def who(name): #nama adalah sebuah parameter\n",
    "    print(\"Namaku adalah \",nama)\n",
    "\n",
    "nama = input(\"Siapa namamu? \")\n",
    "who(nama) #memanggil fungsi"
   ]
  },
  {
   "cell_type": "code",
   "execution_count": 59,
   "metadata": {},
   "outputs": [
    {
     "name": "stdout",
     "output_type": "stream",
     "text": [
      "Namaku adalah Agustina MAtilda Devitry Wiarsy biasanya dipanggil Fitry\n",
      "Namaku adalah Agustina MAtilda Devitry Wiarsy biasanya dipanggil Fitry\n"
     ]
    }
   ],
   "source": [
    "def who(long, nick):\n",
    "    print(\"Namaku adalah\", long,\"biasanya dipanggil\", nick)\n",
    "\n",
    "who(\"Agustina MAtilda Devitry Wiarsy\", \"Fitry\")\n",
    "who(\"Agustina MAtilda Devitry Wiarsy\", nick=\"Fitry\")"
   ]
  },
  {
   "cell_type": "code",
   "execution_count": 60,
   "metadata": {},
   "outputs": [
    {
     "name": "stdout",
     "output_type": "stream",
     "text": [
      "Namaku adalah Agustina Matilda Devitry Wiarsy biasanya dipanggil Fitry\n"
     ]
    }
   ],
   "source": [
    "who(long=\"Agustina Matilda Devitry Wiarsy\",nick=\"Fitry\")"
   ]
  },
  {
   "cell_type": "code",
   "execution_count": 61,
   "metadata": {},
   "outputs": [
    {
     "data": {
      "text/plain": [
       "19"
      ]
     },
     "execution_count": 61,
     "metadata": {},
     "output_type": "execute_result"
    }
   ],
   "source": [
    "#Perulangan di dalam Fungsi\n",
    "def tambah(elemen):\n",
    "    tambah=0\n",
    "    for i in elemen:\n",
    "        tambah += i\n",
    "    return tambah\n",
    "\n",
    "elemen=[4,1,5,7,2]\n",
    "tambah(elemen)"
   ]
  },
  {
   "cell_type": "code",
   "execution_count": 62,
   "metadata": {},
   "outputs": [
    {
     "data": {
      "text/plain": [
       "True"
      ]
     },
     "execution_count": 62,
     "metadata": {},
     "output_type": "execute_result"
    }
   ],
   "source": [
    "def kabisat(year):\n",
    "    if year%4==0:\n",
    "        return True\n",
    "    else: return False\n",
    "\n",
    "kabisat(1900)"
   ]
  },
  {
   "cell_type": "code",
   "execution_count": 63,
   "metadata": {},
   "outputs": [
    {
     "name": "stdout",
     "output_type": "stream",
     "text": [
      "[1, 3, 5, 7, 9]\n"
     ]
    }
   ],
   "source": [
    "def listganjil(batas):\n",
    "    ganjil = []\n",
    "    for i in range(batas):\n",
    "        if i%2==1:\n",
    "            ganjil.append(i)\n",
    "    return ganjil\n",
    "\n",
    "print(listganjil(10))"
   ]
  },
  {
   "cell_type": "code",
   "execution_count": 64,
   "metadata": {},
   "outputs": [
    {
     "name": "stdout",
     "output_type": "stream",
     "text": [
      "Berapa berat badanmu : 40\n",
      "Berapa tinggi badanmu (m) : 148\n",
      "0.0018261504747991235\n"
     ]
    }
   ],
   "source": [
    "#Fungsi Body Mass Index (BMI)\n",
    "def bmi(berat, tinggi):\n",
    "    hasil = berat/(tinggi**2)\n",
    "    return hasil\n",
    "\n",
    "w = float(input(\"Berapa berat badanmu : \"))\n",
    "h = float(input(\"Berapa tinggi badanmu (m) : \"))\n",
    "print(bmi(w, h))"
   ]
  },
  {
   "cell_type": "code",
   "execution_count": null,
   "metadata": {},
   "outputs": [],
   "source": [
    "#Fungsi Segitiga\n",
    "def bmi(berat, tinggi):\n",
    "    hasil = berat/(tinggi**2)\n",
    "    return hasil\n",
    "\n",
    "w = float(input(\"Berapa berat badan Cindy : \"))\n",
    "h = float(input(\"Berapa tinggi badan Cindy (m) : \"))\n",
    "print(bmi(w, h))"
   ]
  },
  {
   "cell_type": "code",
   "execution_count": null,
   "metadata": {},
   "outputs": [],
   "source": []
  },
  {
   "cell_type": "code",
   "execution_count": null,
   "metadata": {},
   "outputs": [],
   "source": []
  }
 ],
 "metadata": {
  "kernelspec": {
   "display_name": "Python 3",
   "language": "python",
   "name": "python3"
  },
  "language_info": {
   "codemirror_mode": {
    "name": "ipython",
    "version": 3
   },
   "file_extension": ".py",
   "mimetype": "text/x-python",
   "name": "python",
   "nbconvert_exporter": "python",
   "pygments_lexer": "ipython3",
   "version": "3.7.4"
  }
 },
 "nbformat": 4,
 "nbformat_minor": 2
}
